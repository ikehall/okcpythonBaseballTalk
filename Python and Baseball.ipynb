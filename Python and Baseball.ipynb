{
 "cells": [
  {
   "cell_type": "markdown",
   "metadata": {},
   "source": [
    "# Python and Baseball\n",
    "\n",
    "Baseball data has come to us in many forms over the years.  In the early days, statistics were calculated from box scores printed in the newspapers and official scoresheets. For many years, the tools used to evaluate pitchers, hitters, and even managers were all pretty much the same.  Batting averages, On base percentages, Earned run averages, etc.  All statistics in baseball only went down so far as to look at the results of many at-bats.\n",
    "\n",
    "But sometime in the late 70's, new interesting statistics began to take shape.  Still, the \"SABRmetrics\" that came from that era (which stretched into the mid-2000s), would all be based on the results of individual at-bats over some amount of time.  The data simply did not exist to look any deeper than that.  But some noteable, game-changing ideas came from that era that are being built upon still today.\n",
    "\n",
    "Originally, I got really into baseball statistics in the early 2000's because I wanted to build a baseball game simulator.  So I read a whole lot, and came to the conclusion that while I could build one, it would be difficult to be one I could be proud of...Especially when it came to simulating the results of pitchers.  Because data at the at-bat level just wasn't good enough to answer the question of:\n",
    "\n",
    "\"When BatterX faces PitcherY, what are the probabilites of each diffent outcome?\"  To get that, I thought, you really needed pitch-level data.  And that data was starting to creep into public databases at the time.  At least, results of pitches.  Not really very much data about the pitches themseves though.  I wanted to answer questions like: \"What's the probability that PitcherY starts off with a fastball low and away, then given that, what's the probability for outcomes off of that pitch\"\n",
    "\n",
    "\n",
    "# PitchF/X\n",
    "\n",
    "In 2007, Major League Baseball, partnering with Sportvision (the people who brought you the First-down marker in football, and that annoying hockey-puck color blob that only lasted for one season because people really hated it, even though it was a huge technical breakthrough at the time), rolled out a system of stationary video cameras at each stadium with the express purpose of tracking every single pitch.  The output from this system is a set of 9 numbers.  The results of a fit to ball-locations in each frame to a constant-acceleration trajectory.  And then they made the data public, as part of their gameday-data feed...the stuff the MLB (and others) apps use to give live game tracking.  \n",
    "\n",
    "![title](baseball_talk/MLB_app.jpg)\n",
    "\n",
    "Access to this data begins [here](http://gd2.mlb.com/components/game/mlb/)\n",
    "\n",
    "http://gd2.mlb.com/components/game/mlb/\n",
    "\n",
    "One can drill down to a single game, like so:\n",
    "\n",
    "http://gd2.mlb.com/components/game/mlb/year_2016/month_04/day_21/gid_2016_04_21_tbamlb_bosmlb_1/ \n",
    "\n",
    "There's a lot of stuff there.  But the interesting things (in my opinion), are in the \"innings\" folder.  (We will use innings/inning_all.xml)\n"
   ]
  },
  {
   "cell_type": "markdown",
   "metadata": {},
   "source": [
    "![title](baseball_talk/atbat.jpg)"
   ]
  },
  {
   "cell_type": "markdown",
   "metadata": {},
   "source": [
    "The PitchF/X part of this exists under the < pitch\\> tag.  There are 9 pitch parameters:\n",
    "\n",
    "- x0, y0, z0:  initial position of the pitch (in $ft$, origin at tip of home plate)\n",
    "\n",
    "* vx0, vy0, vz0: Velocity of the pitch at the initial position (in $ft/s$)\n",
    "\n",
    "* ax, ay, az:  Acceleration of the pitch (in $ft/s^{2}$ assumed to be constant by fit)\n",
    "\n",
    "And several derived parameters:\n",
    "\n",
    "- start_speed, end_speed (self-explanatory)\n",
    "\n",
    "- pfx_x, pfx_z:  The calculated \"break\" of each pitch.  Deviation in inches from the final location to where the pitch would have ended up had it traveled only under the influence of gravity (given the \"initial conditions\" of the pitch at 40 ft from home plate)\n",
    "\n",
    "- px, pz:  These are final locations of the pitch, in feet from the origin at the front of the plate\n",
    "\n",
    "- x, y:  These are also final locations, but measured in normalized-app-pixel units (Never use these)\n",
    "\n",
    "- break_y, break_angle, break_length:  Another attempt to quantify break of a pitch.  Essentially describes the line segment that passes perpindicular to a straight line from release point to final point of the pitch, and intersects the point of greatest deviation from that line on the trajectory of the pitch.\n",
    "\n",
    "![title](baseball_talk/pfx_break_from_walsh.jpg)\n",
    "\n",
    "- pitch_type, type_confidence:  Their guess, and their confidence in their guess as to what kind of pitch that was\n",
    "\n",
    "- spin_rate, spin_dir.  The magnitude and direction of the useful spin of the baseball."
   ]
  },
  {
   "cell_type": "markdown",
   "metadata": {},
   "source": [
    "# Parsing the XML in the simplest way\n",
    "(with ElementTree)\n",
    "There are likely better ways...faster ways even.  But element tree is very simple to understand."
   ]
  },
  {
   "cell_type": "code",
   "execution_count": 7,
   "metadata": {
    "collapsed": false
   },
   "outputs": [],
   "source": [
    "#After saving the inning_all.xml file locally...\n",
    "mygame_xml = open('/home/isaac/baseball_talk/inning.xml')"
   ]
  },
  {
   "cell_type": "code",
   "execution_count": 8,
   "metadata": {
    "collapsed": false
   },
   "outputs": [],
   "source": [
    "import xml.etree.ElementTree as ET\n",
    "inning_tree = ET.parse(mygame_xml).getroot()\n",
    "mygame_xml.close()"
   ]
  },
  {
   "cell_type": "code",
   "execution_count": 18,
   "metadata": {
    "collapsed": false
   },
   "outputs": [
    {
     "data": {
      "text/plain": [
       "[<Element 'inning' at 0x7fb1b2b35650>,\n",
       " <Element 'inning' at 0x7fb1b2ae98d0>,\n",
       " <Element 'inning' at 0x7fb1b2a8b710>,\n",
       " <Element 'inning' at 0x7fb1b2ab0110>,\n",
       " <Element 'inning' at 0x7fb1b2a50750>,\n",
       " <Element 'inning' at 0x7fb1b2a72110>,\n",
       " <Element 'inning' at 0x7fb1b2a18110>,\n",
       " <Element 'inning' at 0x7fb1b2a395d0>,\n",
       " <Element 'inning' at 0x7fb1b29da350>]"
      ]
     },
     "execution_count": 18,
     "metadata": {},
     "output_type": "execute_result"
    }
   ],
   "source": [
    "list(inning_tree)"
   ]
  },
  {
   "cell_type": "code",
   "execution_count": 19,
   "metadata": {
    "collapsed": false
   },
   "outputs": [
    {
     "name": "stdout",
     "output_type": "stream",
     "text": [
      "{'home_team': 'bos', 'away_team': 'tba', 'num': '1', 'next': 'Y'}\n",
      "[<Element 'top' at 0x7fb1b2b35690>, <Element 'bottom' at 0x7fb1b2b45910>]\n",
      "{'home_team': 'bos', 'away_team': 'tba', 'num': '2', 'next': 'Y'}\n",
      "[<Element 'top' at 0x7fb1b2ae9910>, <Element 'bottom' at 0x7fb1b2af9610>]\n",
      "{'home_team': 'bos', 'away_team': 'tba', 'num': '3', 'next': 'Y'}\n",
      "[<Element 'top' at 0x7fb1b2a8b750>, <Element 'bottom' at 0x7fb1b2a9d6d0>]\n",
      "{'home_team': 'bos', 'away_team': 'tba', 'num': '4', 'next': 'Y'}\n",
      "[<Element 'top' at 0x7fb1b2ab0150>, <Element 'bottom' at 0x7fb1b2abff50>]\n",
      "{'home_team': 'bos', 'away_team': 'tba', 'num': '5', 'next': 'Y'}\n",
      "[<Element 'top' at 0x7fb1b2a50810>, <Element 'bottom' at 0x7fb1b2a64490>]\n",
      "{'home_team': 'bos', 'away_team': 'tba', 'num': '6', 'next': 'Y'}\n",
      "[<Element 'top' at 0x7fb1b2a72150>, <Element 'bottom' at 0x7fb1b2a72d50>]\n",
      "{'home_team': 'bos', 'away_team': 'tba', 'num': '7', 'next': 'Y'}\n",
      "[<Element 'top' at 0x7fb1b2a18150>, <Element 'bottom' at 0x7fb1b2a18e90>]\n",
      "{'home_team': 'bos', 'away_team': 'tba', 'num': '8', 'next': 'Y'}\n",
      "[<Element 'top' at 0x7fb1b2a39610>, <Element 'bottom' at 0x7fb1b29c8550>]\n",
      "{'home_team': 'bos', 'away_team': 'tba', 'num': '9', 'next': 'N'}\n",
      "[<Element 'top' at 0x7fb1b29da390>, <Element 'bottom' at 0x7fb1b29ed790>]\n"
     ]
    }
   ],
   "source": [
    "for inning in inning_tree.findall('inning'):\n",
    "    print inning.attrib\n",
    "    print list(inning)"
   ]
  },
  {
   "cell_type": "code",
   "execution_count": 20,
   "metadata": {
    "collapsed": false
   },
   "outputs": [
    {
     "name": "stdout",
     "output_type": "stream",
     "text": [
      "1 top\n",
      "1 bottom\n",
      "2 top\n",
      "2 bottom\n",
      "3 top\n",
      "3 bottom\n",
      "4 top\n",
      "4 bottom\n",
      "5 top\n",
      "5 bottom\n",
      "6 top\n",
      "6 bottom\n",
      "7 top\n",
      "7 bottom\n",
      "8 top\n",
      "8 bottom\n",
      "9 top\n",
      "9 bottom\n"
     ]
    }
   ],
   "source": [
    "for inning in inning_tree:\n",
    "    for half in inning:\n",
    "        print inning.attrib['num'], half.tag"
   ]
  },
  {
   "cell_type": "markdown",
   "metadata": {},
   "source": [
    "In every inning, there are two halves, denoted by the tags top and bottom.  In every half there are some N (usually >= 3) atbats, with various attributes, like pitcher, hitter, final count, outs at the beginning, etc.  Right?\n"
   ]
  },
  {
   "cell_type": "code",
   "execution_count": 23,
   "metadata": {
    "collapsed": false
   },
   "outputs": [
    {
     "data": {
      "text/plain": [
       "[<Element 'atbat' at 0x7fb1b2b35790>,\n",
       " <Element 'atbat' at 0x7fb1b2b35a90>,\n",
       " <Element 'action' at 0x7fb1b2b35d90>,\n",
       " <Element 'atbat' at 0x7fb1b2b35e90>,\n",
       " <Element 'atbat' at 0x7fb1b2b35f90>,\n",
       " <Element 'atbat' at 0x7fb1b2b45390>,\n",
       " <Element 'atbat' at 0x7fb1b2b45610>]"
      ]
     },
     "execution_count": 23,
     "metadata": {},
     "output_type": "execute_result"
    }
   ],
   "source": [
    "list(inning_tree[0][0])"
   ]
  },
  {
   "cell_type": "markdown",
   "metadata": {},
   "source": [
    "Oh wait...there's an \"action\" in there..."
   ]
  },
  {
   "cell_type": "code",
   "execution_count": 24,
   "metadata": {
    "collapsed": false
   },
   "outputs": [
    {
     "data": {
      "text/plain": [
       "('action',\n",
       " {'away_team_runs': '0',\n",
       "  'b': '0',\n",
       "  'des': 'On-field Delay. ',\n",
       "  'des_es': 'Retraso en el Terreno',\n",
       "  'event': 'Game Advisory',\n",
       "  'event_es': 'Aviso en el Juego',\n",
       "  'event_num': '17',\n",
       "  'home_team_runs': '0',\n",
       "  'o': '0',\n",
       "  'pitch': '0',\n",
       "  'player': '446334',\n",
       "  's': '0',\n",
       "  'tfs': '173922',\n",
       "  'tfs_zulu': '2016-04-21T17:39:22Z'})"
      ]
     },
     "execution_count": 24,
     "metadata": {},
     "output_type": "execute_result"
    }
   ],
   "source": [
    "inning_tree[0][0][2].tag, inning_tree[0][0][2].attrib"
   ]
  },
  {
   "cell_type": "markdown",
   "metadata": {},
   "source": [
    "Yeah, we don't care about on-field delays (likely an argument with an umpire)....so our parser needs to skip these.  But not necessarily all action events.  Action events will describe stolen bases, delays of any kind, coaching visits to the mound, Pitching changes and other substitutions.  Even if they happen within an at-bat, the action tag will always be outside of an at-bat (I think).\n",
    "\n",
    "We want to process at bats...those should all have pitches in them, right?"
   ]
  },
  {
   "cell_type": "code",
   "execution_count": 26,
   "metadata": {
    "collapsed": false
   },
   "outputs": [
    {
     "data": {
      "text/plain": [
       "[<Element 'pitch' at 0x7fb1b2b35b10>,\n",
       " <Element 'pitch' at 0x7fb1b2b35bd0>,\n",
       " <Element 'pitch' at 0x7fb1b2b35b90>,\n",
       " <Element 'pitch' at 0x7fb1b2b35c90>,\n",
       " <Element 'runner' at 0x7fb1b2b35d10>,\n",
       " <Element 'runner' at 0x7fb1b2b35d50>]"
      ]
     },
     "execution_count": 26,
     "metadata": {},
     "output_type": "execute_result"
    }
   ],
   "source": [
    "list(inning_tree[0][0][1])"
   ]
  },
  {
   "cell_type": "markdown",
   "metadata": {},
   "source": [
    "Typically, the runner elements are at the end of an at-bat and mark where the runners both began the at-bat, and where they were at the end of it.  However, if there are stolen base attempts that happen during the at-bat, the runner elements will get sandwiched between pitches...right after the pitch on which the runner attempted to steal"
   ]
  },
  {
   "cell_type": "code",
   "execution_count": 28,
   "metadata": {
    "collapsed": false
   },
   "outputs": [
    {
     "data": {
      "text/plain": [
       "{'ax': '17.47',\n",
       " 'ay': '28.57',\n",
       " 'az': '-16.61',\n",
       " 'break_angle': '-41.9',\n",
       " 'break_length': '5.5',\n",
       " 'break_y': '23.8',\n",
       " 'cc': '',\n",
       " 'des': 'Ball',\n",
       " 'des_es': 'Bola mala',\n",
       " 'end_speed': '82.0',\n",
       " 'event_num': '3',\n",
       " 'id': '3',\n",
       " 'mt': '',\n",
       " 'nasty': '70',\n",
       " 'pfx_x': '10.11',\n",
       " 'pfx_z': '8.96',\n",
       " 'pitch_type': 'FT',\n",
       " 'play_guid': '300955b8-a94e-4e35-84a7-a40202f66363',\n",
       " 'px': '1.12',\n",
       " 'pz': '3.33',\n",
       " 'spin_dir': '131.699',\n",
       " 'spin_rate': '2593.365',\n",
       " 'start_speed': '89.5',\n",
       " 'sv_id': '160421_133529',\n",
       " 'sz_bot': '1.61',\n",
       " 'sz_top': '3.5',\n",
       " 'tfs': '173535',\n",
       " 'tfs_zulu': '2016-04-21T17:35:35Z',\n",
       " 'type': 'B',\n",
       " 'type_confidence': '.788',\n",
       " 'vx0': '-8.32',\n",
       " 'vy0': '-130.89',\n",
       " 'vz0': '-4.25',\n",
       " 'x': '74.35',\n",
       " 'x0': '3.03',\n",
       " 'y': '148.9',\n",
       " 'y0': '50.0',\n",
       " 'z0': '6.22',\n",
       " 'zone': '12'}"
      ]
     },
     "execution_count": 28,
     "metadata": {},
     "output_type": "execute_result"
    }
   ],
   "source": [
    "inning_tree[0][0][0][0].attrib#The games first pitch"
   ]
  },
  {
   "cell_type": "markdown",
   "metadata": {},
   "source": [
    "One thing we see missing from the pitch attributes is any indication of the count on which a pitch is thrown.  So if you want to do things that look at which pitches are thrown in which counts, you should probably make sure your parser keeps track of the count in an at-bat as it cycles through pitches...not terribly difficult, but something to keep in mind.\n",
    "\n",
    "And that's the bulk of the data I collect.  There are a few, minor other things too...like the players.xml file that matches player names to their ID numbers...but this is where the interesting (to me) data all resides.\n"
   ]
  },
  {
   "cell_type": "markdown",
   "metadata": {},
   "source": [
    "# Peewee\n",
    "\n",
    "Because I'm not a database guy at all (seriously...I get along with SQL about as well as two things that don't get along very well), I decided to use a lightweight, relatively easy to learn ORM (or it was three years ago...it's changed since then, but still fairly simple)...called peewee.\n",
    "\n",
    "The first step is creating my tables/models...which it makes very simple.\n",
    "\n",
    "[www.github.com/ikehall/peewee-baseball](http://www.github.com/ikehall/peewee-baseball) (I'm just going to point here for now for what I think is easier reference.  Maybe.)\n",
    "\n",
    "*Some notes if you want to use this to create your own database:\n",
    "- First, open a python session and import mymodels\n",
    "- In that python session, run mymodels.create_tables()\n",
    "- Close the python session\n",
    "- Edit import_to_db.py, at the bottom, to reflect the years/months you want to collect\n",
    "- run import_to_db.py, and wait.  Currently, it takes 5~10 seconds per game.  One year takes several hours.\n",
    "- import_to_db.py is UGLY code.  I don't like it.  I'll clean it up, and perhaps optimize it for more speed at some point.  I'm not sure when though."
   ]
  },
  {
   "cell_type": "code",
   "execution_count": 2,
   "metadata": {
    "collapsed": false
   },
   "outputs": [
    {
     "name": "stdout",
     "output_type": "stream",
     "text": [
      "/home/isaac/peewee-baseball/peewee-baseball\n"
     ]
    }
   ],
   "source": [
    "cd peewee-baseball/peewee-baseball/\n"
   ]
  },
  {
   "cell_type": "code",
   "execution_count": 3,
   "metadata": {
    "collapsed": false
   },
   "outputs": [],
   "source": [
    "#Peewee lets me do things like this:\n",
    "from datetime import datetime\n",
    "from peewee import *\n",
    "from mymodels import *"
   ]
  },
  {
   "cell_type": "code",
   "execution_count": 13,
   "metadata": {
    "collapsed": false
   },
   "outputs": [
    {
     "name": "stdout",
     "output_type": "stream",
     "text": [
      "3599\n",
      "1621\n"
     ]
    }
   ],
   "source": [
    "#With peewee, I can do things like this to get at my data.\n",
    "#Say I want to see all the pitches Jake Arrieta threw in 2016...(or some other date range)\n",
    "\n",
    "\n",
    "gms = Games.filter(date__gt=datetime(2016,1,1), \n",
    "                   date__lt=datetime(2017,1,1))\n",
    "pitches = Pitches.filter(ab__gameid__in=gms, \n",
    "                         ab__pitcher__last='Arrieta', \n",
    "                         ab__pitcher__first='Jake')\n",
    "print len(pitches)\n",
    "\n",
    "#Or all the pitches he threw at Wrigley Field\n",
    "gms_wrigley = Games.filter(date__gt=datetime(2016,1,1), \n",
    "                           date__lt=datetime(2017,1,1), \n",
    "                           venue__name=\"Wrigley Field\")\n",
    "pitches_wrigley = Pitches.filter(ab__gameid__in=gms_wrigley, \n",
    "                                 ab__pitcher__last='Arrieta', \n",
    "                                 ab__pitcher__first='Jake')\n",
    "print len(pitches_wrigley)\n",
    "\n",
    "#This is, I guess, the *OLD* way...it's no longer in the documentation.  I cried. \n",
    "#I swear, it was in the docs in 2013 when I started using it...But while updating this year, I discovered\n",
    "#To my horror, that there was literally ZERO mentions of this.  Not even in the API reference.\n",
    "#Which probably doesn't mean good things for the way I thought I could do things 3 years ago... :\\"
   ]
  },
  {
   "cell_type": "code",
   "execution_count": 48,
   "metadata": {
    "collapsed": false
   },
   "outputs": [
    {
     "name": "stdout",
     "output_type": "stream",
     "text": [
      "3599\n",
      "1621\n"
     ]
    }
   ],
   "source": [
    "#With the \"new\" way, it's a little different.  \n",
    "#This is what is in the documentation now.\n",
    "#If it had been like this two years ago, I may have just slogged my way through learning SQLalchemy.\n",
    "#Le Sigh\n",
    "\n",
    "alsopitches = (Pitches.select()\n",
    "               .join(Atbats)\n",
    "               .join(Players, on=Atbats.pitcher)\n",
    "               .where(Players.last=='Arrieta', \n",
    "                      Players.first=='Jake')\n",
    "               .switch(Atbats) #I just learned this part yesterday...apparently I have to switch context back to AB\n",
    "               .join(Games)\n",
    "               .where(Games.date > datetime(2016,1,1), \n",
    "                      Games.date<datetime(2017,1,1))\n",
    "               )\n",
    "print len(alsopitches)\n",
    "\n",
    "#Now let's see what it looks like if I just want to see the pitches he threw at Wrigley field\n",
    "\n",
    "justwrigley = (Pitches.select()\n",
    "               .join(Atbats)\n",
    "               .join(Players, on=Atbats.pitcher)\n",
    "               .where(Players.last=='Arrieta', \n",
    "                      Players.first=='Jake')\n",
    "               .switch(Atbats)\n",
    "               .join(Games)\n",
    "               .where(Games.date > datetime(2016,1,1), \n",
    "                      Games.date<datetime(2017,1,1))\n",
    "               .join(Stadiums)\n",
    "               .where(Stadiums.name=='Wrigley Field')\n",
    "              )\n",
    "print len(justwrigley)"
   ]
  },
  {
   "cell_type": "code",
   "execution_count": 58,
   "metadata": {
    "collapsed": false
   },
   "outputs": [
    {
     "name": "stdout",
     "output_type": "stream",
     "text": [
      "Adames , Cristhian\n",
      "Adames , Cristhian\n",
      "Adames , Cristhian\n",
      "Story , Trevor\n",
      "Story , Trevor\n",
      "Story , Trevor\n",
      "Story , Trevor\n",
      "Story , Trevor\n",
      "Gonzalez , Carlos\n",
      "Gonzalez , Carlos\n",
      "1621\n"
     ]
    }
   ],
   "source": [
    "#Once we have these pitches, access to other data items is simple. \n",
    "#(But there are extra queries involved unless you are smart enough to join on the right things when you query)\n",
    "for pitch in justwrigley[:10]:\n",
    "    print pitch.ab.batter.last,\",\", pitch.ab.batter.first\n",
    "    \n",
    "#I like this because I can select a larger subsample than I need with the queries and let python handle\n",
    "#any filtering I might want later.  For instance, rather than filtering on the stadium when I query, I might\n",
    "#filter it by doing\n",
    "my_pitches = [x for x in pitches if x.ab.gameid.venue.name=='Wrigley Field']\n",
    "print len(my_pitches)\n",
    "\n",
    "#It's definitely not the most efficient way to go about getting the data you need...\n",
    "#BUT, it has the advantage that, for an SQL-baby like me, you can get your code working first,\n",
    "#And then try to clean it up later...which of course, always happens."
   ]
  },
  {
   "cell_type": "code",
   "execution_count": 68,
   "metadata": {
    "collapsed": false
   },
   "outputs": [
    {
     "name": "stdout",
     "output_type": "stream",
     "text": [
      "set([u'CH', u'IN', u'SI', None, u'FF', u'SL', u'CU'])\n"
     ]
    }
   ],
   "source": [
    "#Lets do a little plotting now.  How about different colors for each type of pitch?\n",
    "print set(p.pitch_type for p in pitches)"
   ]
  },
  {
   "cell_type": "code",
   "execution_count": 6,
   "metadata": {
    "collapsed": true
   },
   "outputs": [],
   "source": [
    "pitch_colors = {'FF':'blue','SI':'gray','SL':'red','CU':'cyan','CH':'purple','IN':'black'}"
   ]
  },
  {
   "cell_type": "code",
   "execution_count": 10,
   "metadata": {
    "collapsed": false
   },
   "outputs": [
    {
     "data": {
      "image/png": "[encoded data removed]",
      "text/plain": [
       "<matplotlib.figure.Figure at 0x7f3543eecfd0>"
      ]
     },
     "metadata": {},
     "output_type": "display_data"
    }
   ],
   "source": [
    "%matplotlib inline\n",
    "import matplotlib.pyplot as plt\n",
    "#Pitch movements first...\n",
    "pfx_x = [p.pfx_x for p in pitches if p.pitch_type is not None]\n",
    "pfx_z = [p.pfx_z for p in pitches if p.pitch_type is not None]\n",
    "ptypes = tuple([pitch_colors[p.pitch_type] for p in pitches if p.pitch_type is not None])\n",
    "f = plt.figure()\n",
    "movements = f.add_subplot(111)\n",
    "movements.set_xlabel(\"X movement(inches)\")\n",
    "movements.set_ylabel(\"Z movement(inches)\")\n",
    "movements.set_title(\"Jake Arrieta, pitch movements\")\n",
    "for i,(x,y,c) in enumerate(zip(pfx_x, pfx_z, ptypes)):\n",
    "    movements.plot(x,y, color=c, marker = 'o', markersize=3)"
   ]
  },
  {
   "cell_type": "code",
   "execution_count": 96,
   "metadata": {
    "collapsed": true
   },
   "outputs": [],
   "source": [
    "#Some interesting observations...fastballs and even \"sinkers\" actually have upward movement!  \n",
    "#Only curveballs and  have negative vertical movement (and some sliders).\n",
    "#In fact, sliders are very close to 0,0...No movement?\n",
    "#Also, the hard line between four-seam fastballs and sinkers seems very suspicious.\n",
    "#Possibly a boundary drawn by the pitch-classification algorithm that is incorrect in this case."
   ]
  },
  {
   "cell_type": "code",
   "execution_count": 103,
   "metadata": {
    "collapsed": false
   },
   "outputs": [
    {
     "data": {
      "image/png": "[encoded data removed]",
      "text/plain": [
       "<matplotlib.figure.Figure at 0x7fb1717b0d90>"
      ]
     },
     "metadata": {},
     "output_type": "display_data"
    }
   ],
   "source": [
    "#Lets plot vertical movement vs velocity\n",
    "import numpy as np\n",
    "v_fts = np.array([[p.vx0, p.vx0, p.vy0] for p in pitches if p.vx0 is not None])\n",
    "v0 = np.sqrt(np.sum(v_fts*v_fts, axis=1))/1.46666666667\n",
    "f2 = plt.figure()\n",
    "pfxz_v0 = f2.add_subplot(111)\n",
    "pfxz_v0.set_xlabel(\"v0(mph)\")\n",
    "pfxz_v0.set_ylabel(\"Z movement\")\n",
    "for i,(x,y,c) in enumerate(zip(v0, pfx_z, ptypes)):\n",
    "    pfxz_v0.plot(x,y,color=c, marker='o', markersize=3)"
   ]
  },
  {
   "cell_type": "code",
   "execution_count": 105,
   "metadata": {
    "collapsed": true
   },
   "outputs": [],
   "source": [
    "#It's interesting how the relationship here is almost a straight line...\n",
    "#Also, the blue (four-seam fastballs) look more like a classification hiccup now too.\n",
    "#Again, we see a nearly flat dividing line, and also note that they are\n",
    "#at about the same speed as the sinkers, if not slightly slower on average.\n",
    "#(Normally, a four-seam fastball is the fastest pitch a pitcher throws.  \n",
    "#To get a sinker to sink, there is typically a tiny bit of velocity that must be sacrificed.)\n",
    "#I would guess that all of those are really just his \"fastball\", and that there is no\n",
    "#difference in how they are thrown.  It's quite possible that this is a park-effect.\n"
   ]
  },
  {
   "cell_type": "code",
   "execution_count": 15,
   "metadata": {
    "collapsed": false
   },
   "outputs": [
    {
     "data": {
      "image/png": "[encoded data removed]",
      "text/plain": [
       "<matplotlib.figure.Figure at 0x7f355ad8afd0>"
      ]
     },
     "metadata": {},
     "output_type": "display_data"
    }
   ],
   "source": [
    "just_cleveland = (Pitches.select()\n",
    "               .join(Atbats)\n",
    "               .join(Players, on=Atbats.pitcher)\n",
    "               .where(Players.last=='Arrieta', \n",
    "                      Players.first=='Jake')\n",
    "               .switch(Atbats)\n",
    "               .join(Games)\n",
    "               .where(Games.date > datetime(2016,1,1), \n",
    "                      Games.date<datetime(2017,1,1))\n",
    "               .join(Stadiums)\n",
    "               .where(Stadiums.name=='Progressive Field')\n",
    "              )\n",
    "\n",
    "pfx_x = [p.pfx_x for p in just_cleveland if p.pitch_type is not None]\n",
    "pfx_z = [p.pfx_z for p in just_cleveland if p.pitch_type is not None]\n",
    "ptypes = tuple([pitch_colors[p.pitch_type] for p in just_cleveland if p.pitch_type is not None])\n",
    "f = plt.figure()\n",
    "movements = f.add_subplot(111)\n",
    "movements.set_xlabel(\"X movement(inches)\")\n",
    "movements.set_ylabel(\"Z movement(inches)\")\n",
    "movements.set_title(\"Jake Arrieta, pitch movements\")\n",
    "for i,(x,y,c) in enumerate(zip(pfx_x, pfx_z, ptypes)):\n",
    "    movements.plot(x,y, color=c, marker = 'o', markersize=3)"
   ]
  },
  {
   "cell_type": "code",
   "execution_count": null,
   "metadata": {
    "collapsed": true
   },
   "outputs": [],
   "source": [
    "#More evidence that the split between Sinker/Fourseam is not real...\n",
    "#Unless he totally changed his approach for the World Series..."
   ]
  },
  {
   "cell_type": "code",
   "execution_count": null,
   "metadata": {
    "collapsed": true
   },
   "outputs": [],
   "source": [
    "#I really wanted to do a few things that would use ALL the pitches thrown in a given year...\n",
    "#but the queries involved take a little time."
   ]
  },
  {
   "cell_type": "code",
   "execution_count": 109,
   "metadata": {
    "collapsed": false
   },
   "outputs": [
    {
     "name": "stdout",
     "output_type": "stream",
     "text": [
      "809700\n"
     ]
    }
   ],
   "source": [
    "allpitches = (Pitches.select()\n",
    "              .join(Atbats).join(Games)\n",
    "              .where(Games.date > datetime(2016,1,1), \n",
    "                    Games.date<datetime(2017,1,1))\n",
    "              .switch(Pitches)\n",
    "              .where(Pitches.pfx_x is not None)\n",
    "             )\n",
    "print len(allpitches)\n",
    "#Just this cell takes about 2 minutes to run"
   ]
  },
  {
   "cell_type": "markdown",
   "metadata": {},
   "source": [
    "So before I wrap up the prepared part of this talk, I thought I'd show a few really old results of mine.\n",
    "\n",
    "So, it's fairly well known that the PITCHf/x system is just slightly different at each park.  And that differentness can change from year to year.  So for a lot of things someone might want to do, having \"corrected\" data is a thing you might want.\n",
    "\n",
    "Several years ago, I thought it would be neat to measure the coefficient of drag on a baseball using PITCHf/x.  Past measurements never had quite the statistics to really get a good CD vs v curve, and there were hints in the research that somewhere around 80-85 mph, there was a \"drag crisis\".  Meaning a dip in the coefficient of drag, right in the middle of the zone in which the game is played.  PITCHf/x could only partly answer the question...Because it doesn't actually measure the force of drag at each moment...it fits to constant acceleration...which is like averaging the drag force out over the trajectory of the pitch.  So, we might expect to see a muted version of the drag crisis in the data.\n",
    "\n",
    "Anyway, I went to look, and found this:\n",
    "\n",
    "![title](Baseball/pfx_tree/results/ALL.gif)"
   ]
  },
  {
   "cell_type": "markdown",
   "metadata": {},
   "source": [
    "So that's every pitch in 2007 (the first year of PITCHf/x), colored by the stadium in which it was thrown.  The significant banding indicates, fairly convincingly, that the ballparks are all calibrated somewhat differently.\n",
    "\n",
    "Running a correction algorithm that was proposed by a colleague, I could make things a little better.\n",
    "\n",
    "![title](Baseball/pfx_tree/results/ALL_kalk.gif)\n",
    "\n",
    "Not perfect, but decent enough.\n",
    "\n",
    "Anyway, using that, I made a plot of the \"drag crisis\" as best I could get from PITCHf/x\n",
    "![title](Baseball/pfx_tree/results/avg.gif)"
   ]
  },
  {
   "cell_type": "code",
   "execution_count": 12,
   "metadata": {
    "collapsed": true
   },
   "outputs": [],
   "source": [
    "#Final notes:\n",
    "#MLB gameday data / PITCHf/x is NOT the only baseball data out there.  There are many other databases,\n",
    "#Mostly of at-bat level, and aggregate player statistical data out there. \n",
    "#Retrosheet is a popular one, as is the Lahman baseball database. \n",
    "#They do a very good job of getting historical, data into a common place that anyone can then use\n",
    "#Retrosheet has, I think, games going back to the 1920s, though I believe there are some holes in their data.\n"
   ]
  },
  {
   "cell_type": "code",
   "execution_count": null,
   "metadata": {
    "collapsed": true
   },
   "outputs": [],
   "source": []
  }
 ],
 "metadata": {
  "kernelspec": {
   "display_name": "Python 2",
   "language": "python",
   "name": "python2"
  },
  "language_info": {
   "codemirror_mode": {
    "name": "ipython",
    "version": 2
   },
   "file_extension": ".py",
   "mimetype": "text/x-python",
   "name": "python",
   "nbconvert_exporter": "python",
   "pygments_lexer": "ipython2",
   "version": "2.7.12"
  }
 },
 "nbformat": 4,
 "nbformat_minor": 0
}
